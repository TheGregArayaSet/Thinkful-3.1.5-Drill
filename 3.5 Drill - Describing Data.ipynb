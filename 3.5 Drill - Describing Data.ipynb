{
 "cells": [
  {
   "cell_type": "code",
   "execution_count": 1,
   "metadata": {},
   "outputs": [],
   "source": [
    "import numpy as np\n",
    "import pandas as pd\n",
    "import statistics"
   ]
  },
  {
   "cell_type": "code",
   "execution_count": 2,
   "metadata": {},
   "outputs": [
    {
     "name": "stdout",
     "output_type": "stream",
     "text": [
      "   age\n",
      "0   14\n",
      "1   12\n",
      "2   11\n",
      "3   10\n",
      "4    8\n",
      "5    6\n",
      "6    8\n"
     ]
    }
   ],
   "source": [
    "#['Greg', 14],\n",
    "#['Marcia', 12],\n",
    "#['Peter', 11],\n",
    "#['Jan', 10],\n",
    "#['Bobby', 8],\n",
    "#['Cindy', 6],\n",
    "#['Cousin Oliver', 8]\n",
    "\n",
    "\n",
    "df = pd.DataFrame()\n",
    "df['age'] = [14, 12, 11, 10, 8, 6, 8]\n",
    "\n",
    "print(df)"
   ]
  },
  {
   "cell_type": "code",
   "execution_count": 3,
   "metadata": {},
   "outputs": [
    {
     "name": "stdout",
     "output_type": "stream",
     "text": [
      "The mean is 9.857142857142858, median is 10.0, and mode is 8\n",
      "The variance is 7.476190476190475, with a standard deviation of 2.734262327610589, and a standard error of 1.0334540197243192\n"
     ]
    }
   ],
   "source": [
    "mean = np.mean(df['age'])\n",
    "median = np.median(df['age'])\n",
    "mode = statistics.mode(df['age'])\n",
    "var = df['age'].var()\n",
    "stddev = np.std(df['age'], ddof=1)\n",
    "stderr = stddev / np.sqrt(len(df['age']))\n",
    "\n",
    "\n",
    "print(\"The mean is {}, median is {}, and mode is {}\".format(mean, median, mode))\n",
    "print(\"The variance is {}, with a standard deviation of {}, and a standard error of {}\".format(var, stddev, stderr))"
   ]
  },
  {
   "cell_type": "markdown",
   "metadata": {},
   "source": [
    "### Using these estimates, if I had to choose only one estimate of central tendency and one estimate of variance to describe the data, I would pick the mean and the standard deviation. I chose the mean because there are not any wild outliers that would skew the data, such as an actor who is 18 or something of that nature. I would also pick the standard deviation because it is expressed in the same units as the mean and makes more sense in a common conversation. For example, saying the kids on the show are almost 10 years old on average and tend to vary by about two to three years from that average, would cover almost every age in the list without much of a linguistic hustle."
   ]
  },
  {
   "cell_type": "code",
   "execution_count": 4,
   "metadata": {},
   "outputs": [
    {
     "name": "stdout",
     "output_type": "stream",
     "text": [
      "The new mean is 10.0, updated median is 10.0, and new mode is 8\n",
      "The updated variance is 6.333333333333333, with a standard deviation of 2.516611478423583, and a standard error of 0.9511897312113418\n"
     ]
    }
   ],
   "source": [
    "df['age'] = [14, 12, 11, 10, 8, 7, 8]\n",
    "\n",
    "mean = np.mean(df['age'])\n",
    "median = np.median(df['age'])\n",
    "mode = statistics.mode(df['age'])\n",
    "var = df['age'].var()\n",
    "stddev = np.std(df['age'], ddof=1)\n",
    "stderr = stddev / np.sqrt(len(df['age']))\n",
    "\n",
    "\n",
    "print(\"The new mean is {}, updated median is {}, and new mode is {}\".format(mean, median, mode))\n",
    "print(\"The updated variance is {}, with a standard deviation of {}, and a standard error of {}\".format(var, stddev, stderr))"
   ]
  },
  {
   "cell_type": "markdown",
   "metadata": {},
   "source": [
    "### Variables that changed: Mean, Variance, Standard Deviation, Standard Error\n",
    "\n",
    "### Variables that did not change: Median, Mode\n",
    "\n",
    "\n",
    "### This makes sense and my choice of estimates to describe the data would not change."
   ]
  },
  {
   "cell_type": "code",
   "execution_count": 5,
   "metadata": {},
   "outputs": [
    {
     "name": "stdout",
     "output_type": "stream",
     "text": [
      "The new mean is 9.0, updated median is 10.0, and the mode is not applicable\n",
      "The updated variance is 18.0, with a standard deviation of 4.242640687119285, and a standard error of 1.6035674514745462\n"
     ]
    }
   ],
   "source": [
    "df['age'] = [14, 12, 11, 10, 8, 7, 1]\n",
    "\n",
    "mean = np.mean(df['age'])\n",
    "median = np.median(df['age'])\n",
    "mode = 'not applicable'\n",
    "var = df['age'].var()\n",
    "stddev = np.std(df['age'], ddof=1)\n",
    "stderr = stddev / np.sqrt(len(df['age']))\n",
    "\n",
    "\n",
    "print(\"The new mean is {}, updated median is {}, and the mode is {}\".format(mean, median, mode))\n",
    "print(\"The updated variance is {}, with a standard deviation of {}, and a standard error of {}\".format(var, stddev, stderr))"
   ]
  },
  {
   "cell_type": "markdown",
   "metadata": {},
   "source": [
    "### In this case, I would change my estimate of central tendency to the median, because we have a new actor whose age is very clearly an outlier. This will help keep the data's story straight. I however would not change my estimate of variation because it still describes the data quite well despite the newly added outlier"
   ]
  },
  {
   "cell_type": "code",
   "execution_count": 6,
   "metadata": {},
   "outputs": [
    {
     "name": "stdout",
     "output_type": "stream",
     "text": [
      "The average percentage of adult Americans that I would estimate to be Brady Bunch \n",
      "fans on the 50th anniversary of the show is 18.5%\n"
     ]
    }
   ],
   "source": [
    "fandf = pd.DataFrame()\n",
    "fandf['perc'] = [20, 23, 17, 5]\n",
    "avg = np.median(fandf['perc'])\n",
    "\n",
    "print('The average percentage of adult Americans that I would estimate to be Brady Bunch \\nfans on the 50th anniversary of the show is {}%'.format(avg))"
   ]
  }
 ],
 "metadata": {
  "kernelspec": {
   "display_name": "Python 3",
   "language": "python",
   "name": "python3"
  },
  "language_info": {
   "codemirror_mode": {
    "name": "ipython",
    "version": 3
   },
   "file_extension": ".py",
   "mimetype": "text/x-python",
   "name": "python",
   "nbconvert_exporter": "python",
   "pygments_lexer": "ipython3",
   "version": "3.6.2"
  }
 },
 "nbformat": 4,
 "nbformat_minor": 2
}
